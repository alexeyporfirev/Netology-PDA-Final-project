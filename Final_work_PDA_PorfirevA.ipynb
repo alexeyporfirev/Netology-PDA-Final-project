{
  "nbformat": 4,
  "nbformat_minor": 0,
  "metadata": {
    "colab": {
      "name": "Final-work-PDA-PorfirevA.ipynb",
      "provenance": [],
      "collapsed_sections": [],
      "mount_file_id": "1WvMhs1ZXaFIp3b0BeWhf8RrBEVmNuHF6",
      "authorship_tag": "ABX9TyMICA/b5ONwvk9qwOxR7Gkb",
      "include_colab_link": true
    },
    "kernelspec": {
      "name": "python3",
      "display_name": "Python 3"
    },
    "language_info": {
      "name": "python"
    }
  },
  "cells": [
    {
      "cell_type": "markdown",
      "metadata": {
        "id": "view-in-github",
        "colab_type": "text"
      },
      "source": [
        "<a href=\"https://colab.research.google.com/github/alexeyporfirev/Netology-PDA-Final-project/blob/master/Final_work_PDA_PorfirevA.ipynb\" target=\"_parent\"><img src=\"https://colab.research.google.com/assets/colab-badge.svg\" alt=\"Open In Colab\"/></a>"
      ]
    },
    {
      "cell_type": "code",
      "metadata": {
        "id": "8NbzktUPhhS2"
      },
      "source": [
        "import pandas as pd\n",
        "import numpy as np\n",
        "import matplotlib.pyplot as plt\n",
        "import seaborn as sns\n",
        "from scipy.stats import ttest_ind\n",
        "from scipy.stats import mannwhitneyu  \n",
        "\n",
        "from sklearn.model_selection import train_test_split\n",
        "from sklearn.model_selection import GridSearchCV\n",
        "from sklearn.model_selection import RepeatedStratifiedKFold\n",
        "from sklearn.discriminant_analysis import LinearDiscriminantAnalysis\n",
        "from sklearn.metrics import confusion_matrix, accuracy_score"
      ],
      "execution_count": null,
      "outputs": []
    },
    {
      "cell_type": "markdown",
      "metadata": {
        "id": "HJnu0znxidzd"
      },
      "source": [
        "## 1. Загрузите файл HR.csv в pandas dataframe"
      ]
    },
    {
      "cell_type": "code",
      "metadata": {
        "colab": {
          "base_uri": "https://localhost:8080/",
          "height": 204
        },
        "id": "H5O-g7bNhqrY",
        "outputId": "0461ee26-b2f5-4705-f8d4-c5dca699c966"
      },
      "source": [
        "df = pd.read_csv('drive/MyDrive/pda-final-work/HR.csv')\n",
        "df.head()"
      ],
      "execution_count": null,
      "outputs": [
        {
          "output_type": "execute_result",
          "data": {
            "text/html": [
              "<div>\n",
              "<style scoped>\n",
              "    .dataframe tbody tr th:only-of-type {\n",
              "        vertical-align: middle;\n",
              "    }\n",
              "\n",
              "    .dataframe tbody tr th {\n",
              "        vertical-align: top;\n",
              "    }\n",
              "\n",
              "    .dataframe thead th {\n",
              "        text-align: right;\n",
              "    }\n",
              "</style>\n",
              "<table border=\"1\" class=\"dataframe\">\n",
              "  <thead>\n",
              "    <tr style=\"text-align: right;\">\n",
              "      <th></th>\n",
              "      <th>satisfaction_level</th>\n",
              "      <th>last_evaluation</th>\n",
              "      <th>number_project</th>\n",
              "      <th>average_montly_hours</th>\n",
              "      <th>time_spend_company</th>\n",
              "      <th>Work_accident</th>\n",
              "      <th>left</th>\n",
              "      <th>promotion_last_5years</th>\n",
              "      <th>department</th>\n",
              "      <th>salary</th>\n",
              "    </tr>\n",
              "  </thead>\n",
              "  <tbody>\n",
              "    <tr>\n",
              "      <th>0</th>\n",
              "      <td>0.38</td>\n",
              "      <td>0.53</td>\n",
              "      <td>2</td>\n",
              "      <td>157</td>\n",
              "      <td>3</td>\n",
              "      <td>0</td>\n",
              "      <td>1</td>\n",
              "      <td>0</td>\n",
              "      <td>sales</td>\n",
              "      <td>low</td>\n",
              "    </tr>\n",
              "    <tr>\n",
              "      <th>1</th>\n",
              "      <td>0.80</td>\n",
              "      <td>0.86</td>\n",
              "      <td>5</td>\n",
              "      <td>262</td>\n",
              "      <td>6</td>\n",
              "      <td>0</td>\n",
              "      <td>1</td>\n",
              "      <td>0</td>\n",
              "      <td>sales</td>\n",
              "      <td>medium</td>\n",
              "    </tr>\n",
              "    <tr>\n",
              "      <th>2</th>\n",
              "      <td>0.11</td>\n",
              "      <td>0.88</td>\n",
              "      <td>7</td>\n",
              "      <td>272</td>\n",
              "      <td>4</td>\n",
              "      <td>0</td>\n",
              "      <td>1</td>\n",
              "      <td>0</td>\n",
              "      <td>sales</td>\n",
              "      <td>medium</td>\n",
              "    </tr>\n",
              "    <tr>\n",
              "      <th>3</th>\n",
              "      <td>0.72</td>\n",
              "      <td>0.87</td>\n",
              "      <td>5</td>\n",
              "      <td>223</td>\n",
              "      <td>5</td>\n",
              "      <td>0</td>\n",
              "      <td>1</td>\n",
              "      <td>0</td>\n",
              "      <td>sales</td>\n",
              "      <td>low</td>\n",
              "    </tr>\n",
              "    <tr>\n",
              "      <th>4</th>\n",
              "      <td>0.37</td>\n",
              "      <td>0.52</td>\n",
              "      <td>2</td>\n",
              "      <td>159</td>\n",
              "      <td>3</td>\n",
              "      <td>0</td>\n",
              "      <td>1</td>\n",
              "      <td>0</td>\n",
              "      <td>sales</td>\n",
              "      <td>low</td>\n",
              "    </tr>\n",
              "  </tbody>\n",
              "</table>\n",
              "</div>"
            ],
            "text/plain": [
              "   satisfaction_level  last_evaluation  ...  department  salary\n",
              "0                0.38             0.53  ...       sales     low\n",
              "1                0.80             0.86  ...       sales  medium\n",
              "2                0.11             0.88  ...       sales  medium\n",
              "3                0.72             0.87  ...       sales     low\n",
              "4                0.37             0.52  ...       sales     low\n",
              "\n",
              "[5 rows x 10 columns]"
            ]
          },
          "metadata": {},
          "execution_count": 382
        }
      ]
    },
    {
      "cell_type": "markdown",
      "metadata": {
        "id": "gxzPTpkcijg-"
      },
      "source": [
        "## 2. Рассчитайте основные статистики для переменных(среднее,медиана,мода,мин/макс,сред.отклонение)."
      ]
    },
    {
      "cell_type": "code",
      "metadata": {
        "colab": {
          "base_uri": "https://localhost:8080/",
          "height": 297
        },
        "id": "UpY9mb5ghuCZ",
        "outputId": "3ac03769-d663-4b9f-c2f2-904883579b82"
      },
      "source": [
        "# получаем набор базовых статистик, в которых есть все из требуемых величин, \n",
        "# но в них нет вычисления моды\n",
        "df_stats = df.describe()\n",
        "df_stats"
      ],
      "execution_count": null,
      "outputs": [
        {
          "output_type": "execute_result",
          "data": {
            "text/html": [
              "<div>\n",
              "<style scoped>\n",
              "    .dataframe tbody tr th:only-of-type {\n",
              "        vertical-align: middle;\n",
              "    }\n",
              "\n",
              "    .dataframe tbody tr th {\n",
              "        vertical-align: top;\n",
              "    }\n",
              "\n",
              "    .dataframe thead th {\n",
              "        text-align: right;\n",
              "    }\n",
              "</style>\n",
              "<table border=\"1\" class=\"dataframe\">\n",
              "  <thead>\n",
              "    <tr style=\"text-align: right;\">\n",
              "      <th></th>\n",
              "      <th>satisfaction_level</th>\n",
              "      <th>last_evaluation</th>\n",
              "      <th>number_project</th>\n",
              "      <th>average_montly_hours</th>\n",
              "      <th>time_spend_company</th>\n",
              "      <th>Work_accident</th>\n",
              "      <th>left</th>\n",
              "      <th>promotion_last_5years</th>\n",
              "    </tr>\n",
              "  </thead>\n",
              "  <tbody>\n",
              "    <tr>\n",
              "      <th>count</th>\n",
              "      <td>14999.000000</td>\n",
              "      <td>14999.000000</td>\n",
              "      <td>14999.000000</td>\n",
              "      <td>14999.000000</td>\n",
              "      <td>14999.000000</td>\n",
              "      <td>14999.000000</td>\n",
              "      <td>14999.000000</td>\n",
              "      <td>14999.000000</td>\n",
              "    </tr>\n",
              "    <tr>\n",
              "      <th>mean</th>\n",
              "      <td>0.612834</td>\n",
              "      <td>0.716102</td>\n",
              "      <td>3.803054</td>\n",
              "      <td>201.050337</td>\n",
              "      <td>3.498233</td>\n",
              "      <td>0.144610</td>\n",
              "      <td>0.238083</td>\n",
              "      <td>0.021268</td>\n",
              "    </tr>\n",
              "    <tr>\n",
              "      <th>std</th>\n",
              "      <td>0.248631</td>\n",
              "      <td>0.171169</td>\n",
              "      <td>1.232592</td>\n",
              "      <td>49.943099</td>\n",
              "      <td>1.460136</td>\n",
              "      <td>0.351719</td>\n",
              "      <td>0.425924</td>\n",
              "      <td>0.144281</td>\n",
              "    </tr>\n",
              "    <tr>\n",
              "      <th>min</th>\n",
              "      <td>0.090000</td>\n",
              "      <td>0.360000</td>\n",
              "      <td>2.000000</td>\n",
              "      <td>96.000000</td>\n",
              "      <td>2.000000</td>\n",
              "      <td>0.000000</td>\n",
              "      <td>0.000000</td>\n",
              "      <td>0.000000</td>\n",
              "    </tr>\n",
              "    <tr>\n",
              "      <th>25%</th>\n",
              "      <td>0.440000</td>\n",
              "      <td>0.560000</td>\n",
              "      <td>3.000000</td>\n",
              "      <td>156.000000</td>\n",
              "      <td>3.000000</td>\n",
              "      <td>0.000000</td>\n",
              "      <td>0.000000</td>\n",
              "      <td>0.000000</td>\n",
              "    </tr>\n",
              "    <tr>\n",
              "      <th>50%</th>\n",
              "      <td>0.640000</td>\n",
              "      <td>0.720000</td>\n",
              "      <td>4.000000</td>\n",
              "      <td>200.000000</td>\n",
              "      <td>3.000000</td>\n",
              "      <td>0.000000</td>\n",
              "      <td>0.000000</td>\n",
              "      <td>0.000000</td>\n",
              "    </tr>\n",
              "    <tr>\n",
              "      <th>75%</th>\n",
              "      <td>0.820000</td>\n",
              "      <td>0.870000</td>\n",
              "      <td>5.000000</td>\n",
              "      <td>245.000000</td>\n",
              "      <td>4.000000</td>\n",
              "      <td>0.000000</td>\n",
              "      <td>0.000000</td>\n",
              "      <td>0.000000</td>\n",
              "    </tr>\n",
              "    <tr>\n",
              "      <th>max</th>\n",
              "      <td>1.000000</td>\n",
              "      <td>1.000000</td>\n",
              "      <td>7.000000</td>\n",
              "      <td>310.000000</td>\n",
              "      <td>10.000000</td>\n",
              "      <td>1.000000</td>\n",
              "      <td>1.000000</td>\n",
              "      <td>1.000000</td>\n",
              "    </tr>\n",
              "  </tbody>\n",
              "</table>\n",
              "</div>"
            ],
            "text/plain": [
              "       satisfaction_level  last_evaluation  ...          left  promotion_last_5years\n",
              "count        14999.000000     14999.000000  ...  14999.000000           14999.000000\n",
              "mean             0.612834         0.716102  ...      0.238083               0.021268\n",
              "std              0.248631         0.171169  ...      0.425924               0.144281\n",
              "min              0.090000         0.360000  ...      0.000000               0.000000\n",
              "25%              0.440000         0.560000  ...      0.000000               0.000000\n",
              "50%              0.640000         0.720000  ...      0.000000               0.000000\n",
              "75%              0.820000         0.870000  ...      0.000000               0.000000\n",
              "max              1.000000         1.000000  ...      1.000000               1.000000\n",
              "\n",
              "[8 rows x 8 columns]"
            ]
          },
          "metadata": {},
          "execution_count": 383
        }
      ]
    },
    {
      "cell_type": "markdown",
      "metadata": {
        "id": "RY5Z6Sb5qD6Y"
      },
      "source": [
        "Определяем ф-цию вычисления моды для серии"
      ]
    },
    {
      "cell_type": "code",
      "metadata": {
        "id": "ygDc7QE-jwN-"
      },
      "source": [
        "def mode_calculation(df):\n",
        "  '''\n",
        "  Вычисление моды для числовых столбцов  датафрейма\n",
        "  :param df: Датафрейм с исходными данными\n",
        "  :return: Словарь с вычисленными значениями мод для каждого числового атрибута\n",
        "  '''\n",
        "  modes = dict()\n",
        "  for column_ in df.columns:\n",
        "    if df[column_].dtype is not np.dtype('O'):\n",
        "      modes[column_] = df[column_].mode()[0]\n",
        "  return modes"
      ],
      "execution_count": null,
      "outputs": []
    },
    {
      "cell_type": "markdown",
      "metadata": {
        "id": "KIV1nc60tBjq"
      },
      "source": [
        "Формируем новый датафрейм со значениями мод и добавляем его к датафрейму с базовыми статистиками"
      ]
    },
    {
      "cell_type": "code",
      "metadata": {
        "id": "BXCjJBq7pn0c"
      },
      "source": [
        "df_modes = pd.DataFrame(mode_calculation(df), index=['mode'])\n",
        "df_stats = df_stats.append(df_modes)"
      ],
      "execution_count": null,
      "outputs": []
    },
    {
      "cell_type": "code",
      "metadata": {
        "colab": {
          "base_uri": "https://localhost:8080/",
          "height": 328
        },
        "id": "Ra075TnhmBNj",
        "outputId": "fabf7ec8-8b8f-4b9f-9a71-385856ba8584"
      },
      "source": [
        "df_stats"
      ],
      "execution_count": null,
      "outputs": [
        {
          "output_type": "execute_result",
          "data": {
            "text/html": [
              "<div>\n",
              "<style scoped>\n",
              "    .dataframe tbody tr th:only-of-type {\n",
              "        vertical-align: middle;\n",
              "    }\n",
              "\n",
              "    .dataframe tbody tr th {\n",
              "        vertical-align: top;\n",
              "    }\n",
              "\n",
              "    .dataframe thead th {\n",
              "        text-align: right;\n",
              "    }\n",
              "</style>\n",
              "<table border=\"1\" class=\"dataframe\">\n",
              "  <thead>\n",
              "    <tr style=\"text-align: right;\">\n",
              "      <th></th>\n",
              "      <th>satisfaction_level</th>\n",
              "      <th>last_evaluation</th>\n",
              "      <th>number_project</th>\n",
              "      <th>average_montly_hours</th>\n",
              "      <th>time_spend_company</th>\n",
              "      <th>Work_accident</th>\n",
              "      <th>left</th>\n",
              "      <th>promotion_last_5years</th>\n",
              "    </tr>\n",
              "  </thead>\n",
              "  <tbody>\n",
              "    <tr>\n",
              "      <th>count</th>\n",
              "      <td>14999.000000</td>\n",
              "      <td>14999.000000</td>\n",
              "      <td>14999.000000</td>\n",
              "      <td>14999.000000</td>\n",
              "      <td>14999.000000</td>\n",
              "      <td>14999.000000</td>\n",
              "      <td>14999.000000</td>\n",
              "      <td>14999.000000</td>\n",
              "    </tr>\n",
              "    <tr>\n",
              "      <th>mean</th>\n",
              "      <td>0.612834</td>\n",
              "      <td>0.716102</td>\n",
              "      <td>3.803054</td>\n",
              "      <td>201.050337</td>\n",
              "      <td>3.498233</td>\n",
              "      <td>0.144610</td>\n",
              "      <td>0.238083</td>\n",
              "      <td>0.021268</td>\n",
              "    </tr>\n",
              "    <tr>\n",
              "      <th>std</th>\n",
              "      <td>0.248631</td>\n",
              "      <td>0.171169</td>\n",
              "      <td>1.232592</td>\n",
              "      <td>49.943099</td>\n",
              "      <td>1.460136</td>\n",
              "      <td>0.351719</td>\n",
              "      <td>0.425924</td>\n",
              "      <td>0.144281</td>\n",
              "    </tr>\n",
              "    <tr>\n",
              "      <th>min</th>\n",
              "      <td>0.090000</td>\n",
              "      <td>0.360000</td>\n",
              "      <td>2.000000</td>\n",
              "      <td>96.000000</td>\n",
              "      <td>2.000000</td>\n",
              "      <td>0.000000</td>\n",
              "      <td>0.000000</td>\n",
              "      <td>0.000000</td>\n",
              "    </tr>\n",
              "    <tr>\n",
              "      <th>25%</th>\n",
              "      <td>0.440000</td>\n",
              "      <td>0.560000</td>\n",
              "      <td>3.000000</td>\n",
              "      <td>156.000000</td>\n",
              "      <td>3.000000</td>\n",
              "      <td>0.000000</td>\n",
              "      <td>0.000000</td>\n",
              "      <td>0.000000</td>\n",
              "    </tr>\n",
              "    <tr>\n",
              "      <th>50%</th>\n",
              "      <td>0.640000</td>\n",
              "      <td>0.720000</td>\n",
              "      <td>4.000000</td>\n",
              "      <td>200.000000</td>\n",
              "      <td>3.000000</td>\n",
              "      <td>0.000000</td>\n",
              "      <td>0.000000</td>\n",
              "      <td>0.000000</td>\n",
              "    </tr>\n",
              "    <tr>\n",
              "      <th>75%</th>\n",
              "      <td>0.820000</td>\n",
              "      <td>0.870000</td>\n",
              "      <td>5.000000</td>\n",
              "      <td>245.000000</td>\n",
              "      <td>4.000000</td>\n",
              "      <td>0.000000</td>\n",
              "      <td>0.000000</td>\n",
              "      <td>0.000000</td>\n",
              "    </tr>\n",
              "    <tr>\n",
              "      <th>max</th>\n",
              "      <td>1.000000</td>\n",
              "      <td>1.000000</td>\n",
              "      <td>7.000000</td>\n",
              "      <td>310.000000</td>\n",
              "      <td>10.000000</td>\n",
              "      <td>1.000000</td>\n",
              "      <td>1.000000</td>\n",
              "      <td>1.000000</td>\n",
              "    </tr>\n",
              "    <tr>\n",
              "      <th>mode</th>\n",
              "      <td>0.100000</td>\n",
              "      <td>0.550000</td>\n",
              "      <td>4.000000</td>\n",
              "      <td>135.000000</td>\n",
              "      <td>3.000000</td>\n",
              "      <td>0.000000</td>\n",
              "      <td>0.000000</td>\n",
              "      <td>0.000000</td>\n",
              "    </tr>\n",
              "  </tbody>\n",
              "</table>\n",
              "</div>"
            ],
            "text/plain": [
              "       satisfaction_level  last_evaluation  ...          left  promotion_last_5years\n",
              "count        14999.000000     14999.000000  ...  14999.000000           14999.000000\n",
              "mean             0.612834         0.716102  ...      0.238083               0.021268\n",
              "std              0.248631         0.171169  ...      0.425924               0.144281\n",
              "min              0.090000         0.360000  ...      0.000000               0.000000\n",
              "25%              0.440000         0.560000  ...      0.000000               0.000000\n",
              "50%              0.640000         0.720000  ...      0.000000               0.000000\n",
              "75%              0.820000         0.870000  ...      0.000000               0.000000\n",
              "max              1.000000         1.000000  ...      1.000000               1.000000\n",
              "mode             0.100000         0.550000  ...      0.000000               0.000000\n",
              "\n",
              "[9 rows x 8 columns]"
            ]
          },
          "metadata": {},
          "execution_count": 386
        }
      ]
    },
    {
      "cell_type": "markdown",
      "metadata": {
        "id": "6IE805iHtMaH"
      },
      "source": [
        "# 3. Рассчитайте и визуализировать корреляционную матрицу для количественных переменных.Определите две самые скоррелированные и две наименее скоррелированные переменные."
      ]
    },
    {
      "cell_type": "markdown",
      "metadata": {
        "id": "HXEFu8onIIu9"
      },
      "source": [
        "Напишем ф-цию для выделения только количественных переменных"
      ]
    },
    {
      "cell_type": "code",
      "metadata": {
        "id": "rpM6jDsytQQg"
      },
      "source": [
        "def delete_categorial_attr(df):\n",
        "  '''\n",
        "  Удаление из датафрейма столбцов с категориальными переменными\n",
        "  :param df: Датафрейм с исходными данными\n",
        "  :return: Датафрейм с удаленными столбцами категориальных переменных\n",
        "  '''\n",
        "  for column_ in df.columns:\n",
        "    if df[column_].dtype is np.dtype('O'):\n",
        "      df = df.drop([column_], axis=1)\n",
        "  return df"
      ],
      "execution_count": null,
      "outputs": []
    },
    {
      "cell_type": "markdown",
      "metadata": {
        "id": "nNq3rR4kEqyF"
      },
      "source": [
        "Вызовем эту ф-цию на исходном датафрейме"
      ]
    },
    {
      "cell_type": "code",
      "metadata": {
        "colab": {
          "base_uri": "https://localhost:8080/",
          "height": 204
        },
        "id": "ZNVcvvDyttqb",
        "outputId": "720ecc35-a9a5-4563-8122-262ca5772550"
      },
      "source": [
        "df_ = delete_categorial_attr(df)\n",
        "df_.head()"
      ],
      "execution_count": null,
      "outputs": [
        {
          "output_type": "execute_result",
          "data": {
            "text/html": [
              "<div>\n",
              "<style scoped>\n",
              "    .dataframe tbody tr th:only-of-type {\n",
              "        vertical-align: middle;\n",
              "    }\n",
              "\n",
              "    .dataframe tbody tr th {\n",
              "        vertical-align: top;\n",
              "    }\n",
              "\n",
              "    .dataframe thead th {\n",
              "        text-align: right;\n",
              "    }\n",
              "</style>\n",
              "<table border=\"1\" class=\"dataframe\">\n",
              "  <thead>\n",
              "    <tr style=\"text-align: right;\">\n",
              "      <th></th>\n",
              "      <th>satisfaction_level</th>\n",
              "      <th>last_evaluation</th>\n",
              "      <th>number_project</th>\n",
              "      <th>average_montly_hours</th>\n",
              "      <th>time_spend_company</th>\n",
              "      <th>Work_accident</th>\n",
              "      <th>left</th>\n",
              "      <th>promotion_last_5years</th>\n",
              "    </tr>\n",
              "  </thead>\n",
              "  <tbody>\n",
              "    <tr>\n",
              "      <th>0</th>\n",
              "      <td>0.38</td>\n",
              "      <td>0.53</td>\n",
              "      <td>2</td>\n",
              "      <td>157</td>\n",
              "      <td>3</td>\n",
              "      <td>0</td>\n",
              "      <td>1</td>\n",
              "      <td>0</td>\n",
              "    </tr>\n",
              "    <tr>\n",
              "      <th>1</th>\n",
              "      <td>0.80</td>\n",
              "      <td>0.86</td>\n",
              "      <td>5</td>\n",
              "      <td>262</td>\n",
              "      <td>6</td>\n",
              "      <td>0</td>\n",
              "      <td>1</td>\n",
              "      <td>0</td>\n",
              "    </tr>\n",
              "    <tr>\n",
              "      <th>2</th>\n",
              "      <td>0.11</td>\n",
              "      <td>0.88</td>\n",
              "      <td>7</td>\n",
              "      <td>272</td>\n",
              "      <td>4</td>\n",
              "      <td>0</td>\n",
              "      <td>1</td>\n",
              "      <td>0</td>\n",
              "    </tr>\n",
              "    <tr>\n",
              "      <th>3</th>\n",
              "      <td>0.72</td>\n",
              "      <td>0.87</td>\n",
              "      <td>5</td>\n",
              "      <td>223</td>\n",
              "      <td>5</td>\n",
              "      <td>0</td>\n",
              "      <td>1</td>\n",
              "      <td>0</td>\n",
              "    </tr>\n",
              "    <tr>\n",
              "      <th>4</th>\n",
              "      <td>0.37</td>\n",
              "      <td>0.52</td>\n",
              "      <td>2</td>\n",
              "      <td>159</td>\n",
              "      <td>3</td>\n",
              "      <td>0</td>\n",
              "      <td>1</td>\n",
              "      <td>0</td>\n",
              "    </tr>\n",
              "  </tbody>\n",
              "</table>\n",
              "</div>"
            ],
            "text/plain": [
              "   satisfaction_level  last_evaluation  ...  left  promotion_last_5years\n",
              "0                0.38             0.53  ...     1                      0\n",
              "1                0.80             0.86  ...     1                      0\n",
              "2                0.11             0.88  ...     1                      0\n",
              "3                0.72             0.87  ...     1                      0\n",
              "4                0.37             0.52  ...     1                      0\n",
              "\n",
              "[5 rows x 8 columns]"
            ]
          },
          "metadata": {},
          "execution_count": 388
        }
      ]
    },
    {
      "cell_type": "markdown",
      "metadata": {
        "id": "Da8tarL-IFdE"
      },
      "source": [
        "Построим корреляционную матрицу"
      ]
    },
    {
      "cell_type": "code",
      "metadata": {
        "colab": {
          "base_uri": "https://localhost:8080/",
          "height": 297
        },
        "id": "atYjMfW1uksT",
        "outputId": "4c565a61-5efb-471c-d105-b3dfbd0055d2"
      },
      "source": [
        "df_.corr()"
      ],
      "execution_count": null,
      "outputs": [
        {
          "output_type": "execute_result",
          "data": {
            "text/html": [
              "<div>\n",
              "<style scoped>\n",
              "    .dataframe tbody tr th:only-of-type {\n",
              "        vertical-align: middle;\n",
              "    }\n",
              "\n",
              "    .dataframe tbody tr th {\n",
              "        vertical-align: top;\n",
              "    }\n",
              "\n",
              "    .dataframe thead th {\n",
              "        text-align: right;\n",
              "    }\n",
              "</style>\n",
              "<table border=\"1\" class=\"dataframe\">\n",
              "  <thead>\n",
              "    <tr style=\"text-align: right;\">\n",
              "      <th></th>\n",
              "      <th>satisfaction_level</th>\n",
              "      <th>last_evaluation</th>\n",
              "      <th>number_project</th>\n",
              "      <th>average_montly_hours</th>\n",
              "      <th>time_spend_company</th>\n",
              "      <th>Work_accident</th>\n",
              "      <th>left</th>\n",
              "      <th>promotion_last_5years</th>\n",
              "    </tr>\n",
              "  </thead>\n",
              "  <tbody>\n",
              "    <tr>\n",
              "      <th>satisfaction_level</th>\n",
              "      <td>1.000000</td>\n",
              "      <td>0.105021</td>\n",
              "      <td>-0.142970</td>\n",
              "      <td>-0.020048</td>\n",
              "      <td>-0.100866</td>\n",
              "      <td>0.058697</td>\n",
              "      <td>-0.388375</td>\n",
              "      <td>0.025605</td>\n",
              "    </tr>\n",
              "    <tr>\n",
              "      <th>last_evaluation</th>\n",
              "      <td>0.105021</td>\n",
              "      <td>1.000000</td>\n",
              "      <td>0.349333</td>\n",
              "      <td>0.339742</td>\n",
              "      <td>0.131591</td>\n",
              "      <td>-0.007104</td>\n",
              "      <td>0.006567</td>\n",
              "      <td>-0.008684</td>\n",
              "    </tr>\n",
              "    <tr>\n",
              "      <th>number_project</th>\n",
              "      <td>-0.142970</td>\n",
              "      <td>0.349333</td>\n",
              "      <td>1.000000</td>\n",
              "      <td>0.417211</td>\n",
              "      <td>0.196786</td>\n",
              "      <td>-0.004741</td>\n",
              "      <td>0.023787</td>\n",
              "      <td>-0.006064</td>\n",
              "    </tr>\n",
              "    <tr>\n",
              "      <th>average_montly_hours</th>\n",
              "      <td>-0.020048</td>\n",
              "      <td>0.339742</td>\n",
              "      <td>0.417211</td>\n",
              "      <td>1.000000</td>\n",
              "      <td>0.127755</td>\n",
              "      <td>-0.010143</td>\n",
              "      <td>0.071287</td>\n",
              "      <td>-0.003544</td>\n",
              "    </tr>\n",
              "    <tr>\n",
              "      <th>time_spend_company</th>\n",
              "      <td>-0.100866</td>\n",
              "      <td>0.131591</td>\n",
              "      <td>0.196786</td>\n",
              "      <td>0.127755</td>\n",
              "      <td>1.000000</td>\n",
              "      <td>0.002120</td>\n",
              "      <td>0.144822</td>\n",
              "      <td>0.067433</td>\n",
              "    </tr>\n",
              "    <tr>\n",
              "      <th>Work_accident</th>\n",
              "      <td>0.058697</td>\n",
              "      <td>-0.007104</td>\n",
              "      <td>-0.004741</td>\n",
              "      <td>-0.010143</td>\n",
              "      <td>0.002120</td>\n",
              "      <td>1.000000</td>\n",
              "      <td>-0.154622</td>\n",
              "      <td>0.039245</td>\n",
              "    </tr>\n",
              "    <tr>\n",
              "      <th>left</th>\n",
              "      <td>-0.388375</td>\n",
              "      <td>0.006567</td>\n",
              "      <td>0.023787</td>\n",
              "      <td>0.071287</td>\n",
              "      <td>0.144822</td>\n",
              "      <td>-0.154622</td>\n",
              "      <td>1.000000</td>\n",
              "      <td>-0.061788</td>\n",
              "    </tr>\n",
              "    <tr>\n",
              "      <th>promotion_last_5years</th>\n",
              "      <td>0.025605</td>\n",
              "      <td>-0.008684</td>\n",
              "      <td>-0.006064</td>\n",
              "      <td>-0.003544</td>\n",
              "      <td>0.067433</td>\n",
              "      <td>0.039245</td>\n",
              "      <td>-0.061788</td>\n",
              "      <td>1.000000</td>\n",
              "    </tr>\n",
              "  </tbody>\n",
              "</table>\n",
              "</div>"
            ],
            "text/plain": [
              "                       satisfaction_level  ...  promotion_last_5years\n",
              "satisfaction_level               1.000000  ...               0.025605\n",
              "last_evaluation                  0.105021  ...              -0.008684\n",
              "number_project                  -0.142970  ...              -0.006064\n",
              "average_montly_hours            -0.020048  ...              -0.003544\n",
              "time_spend_company              -0.100866  ...               0.067433\n",
              "Work_accident                    0.058697  ...               0.039245\n",
              "left                            -0.388375  ...              -0.061788\n",
              "promotion_last_5years            0.025605  ...               1.000000\n",
              "\n",
              "[8 rows x 8 columns]"
            ]
          },
          "metadata": {},
          "execution_count": 389
        }
      ]
    },
    {
      "cell_type": "markdown",
      "metadata": {
        "id": "EBpiwiLcH76M"
      },
      "source": [
        "Визуализируем корреляционную матрицу"
      ]
    },
    {
      "cell_type": "code",
      "metadata": {
        "colab": {
          "base_uri": "https://localhost:8080/",
          "height": 390
        },
        "id": "Twj3xKliH7ZO",
        "outputId": "f675ae71-e63c-4344-c7dc-72614e4ee510"
      },
      "source": [
        "sns.heatmap(df_.corr())"
      ],
      "execution_count": null,
      "outputs": [
        {
          "output_type": "execute_result",
          "data": {
            "text/plain": [
              "<matplotlib.axes._subplots.AxesSubplot at 0x7fd5013ac390>"
            ]
          },
          "metadata": {},
          "execution_count": 390
        },
        {
          "output_type": "display_data",
          "data": {
            "image/png": "[encoded data removed]",
            "text/plain": [
              "<Figure size 432x288 with 2 Axes>"
            ]
          },
          "metadata": {
            "needs_background": "light"
          }
        }
      ]
    },
    {
      "cell_type": "markdown",
      "metadata": {
        "id": "uSP47Wp1IQLh"
      },
      "source": [
        "Напишем ф-ция для автоматического вычисления переменных с минимальной и максимальной корреляциями"
      ]
    },
    {
      "cell_type": "code",
      "metadata": {
        "id": "wfsS7k4Gu2ap"
      },
      "source": [
        "def find_min_max_correlation(df_, absolute_v=True):\n",
        "  '''\n",
        "  Функция определения двух самых скоррелированных и двух наименее\n",
        "  скоррелированных переменных в датафрейме\n",
        "  :param df_: Исходный датафрейм\n",
        "  :param absolute_v: При поиске сравнивать коэффициенты по модулю (True)\n",
        "  или нет (False)\n",
        "  :return: Массив с tuple-объектами, содержащими названия двух наименее\n",
        "  скоррелированных переменных и значение их коэффициента корреляции\n",
        "  (первый элемент массива), и содержащими названия двух наиболее\n",
        "  скоррелированных переменных и значение их коэффициента корреляции\n",
        "  (второй элемент массива)\n",
        "  '''\n",
        "  arr = df_.corr().to_numpy()\n",
        "  min_v, min_i, min_j = (abs(arr[0][1]), 0, 1)\n",
        "  max_v, max_i, max_j = (abs(arr[0][1]), 0, 1)\n",
        "  min_pair = tuple()\n",
        "  max_pair = tuple()\n",
        "\n",
        "  for i in range(arr.shape[0]):\n",
        "    for j in range(i+1, arr.shape[0]): \n",
        "      val_ = abs(arr[i][j]) if absolute_v else arr[i][j]\n",
        "      if val_ > max_v:\n",
        "        max_v = val_\n",
        "        max_i, max_j = (i, j)\n",
        "      if val_ < min_v:\n",
        "        min_v = val_\n",
        "        min_i, min_j = (i, j)\n",
        "\n",
        "  min_pair=(\n",
        "      df_.columns[min_i],\n",
        "      df_.corr().index[min_j],\n",
        "      arr[min_i][min_j]\n",
        "      )\n",
        "  max_pair=(\n",
        "      df_.columns[max_i],\n",
        "      df_.corr().index[max_j],\n",
        "      arr[max_i][max_j]\n",
        "      )\n",
        "  \n",
        "  return [min_pair, max_pair]"
      ],
      "execution_count": null,
      "outputs": []
    },
    {
      "cell_type": "code",
      "metadata": {
        "colab": {
          "base_uri": "https://localhost:8080/"
        },
        "id": "w4Rn84e-C1e9",
        "outputId": "a1fb6b0d-c5ab-4044-a609-7f962f6892bd"
      },
      "source": [
        "cor_v = find_min_max_correlation(df_, absolute_v=True)\n",
        "print('Две наименее скоррелированные переменные:'\n",
        "  f'\\'{cor_v[0][0]}\\' и \\'{cor_v[0][1]}\\': {cor_v[0][2]}')\n",
        "print('Две наиболее скоррелированные переменные:'\n",
        "  f'\\'{cor_v[1][0]}\\' и \\'{cor_v[1][1]}\\': {cor_v[1][2]}')"
      ],
      "execution_count": null,
      "outputs": [
        {
          "output_type": "stream",
          "name": "stdout",
          "text": [
            "Две наименее скоррелированные переменные:'time_spend_company' и 'Work_accident': 0.00212041809671425\n",
            "Две наиболее скоррелированные переменные:'number_project' и 'average_montly_hours': 0.4172106344017606\n"
          ]
        }
      ]
    },
    {
      "cell_type": "markdown",
      "metadata": {
        "id": "a8-QvBVcce1J"
      },
      "source": [
        "# 4. Рассчитайте сколько сотрудников работает в каждом департаменте."
      ]
    },
    {
      "cell_type": "code",
      "metadata": {
        "colab": {
          "base_uri": "https://localhost:8080/"
        },
        "id": "gTKtJkQPJi8O",
        "outputId": "660b922e-c644-41ba-f57e-6e8e8c522e07"
      },
      "source": [
        "# т.к. переменная 'left' скорее всего указывает на то, ушел работник из компании\n",
        "# (1) или работает в ней в данный момент (0), то сначала проводится фильтрация\n",
        "# только текущих работников\n",
        "df.loc[df.left==0].groupby('department')['department'].count()"
      ],
      "execution_count": null,
      "outputs": [
        {
          "output_type": "execute_result",
          "data": {
            "text/plain": [
              "department\n",
              "IT              954\n",
              "RandD           666\n",
              "accounting      563\n",
              "hr              524\n",
              "management      539\n",
              "marketing       655\n",
              "product_mng     704\n",
              "sales          3126\n",
              "support        1674\n",
              "technical      2023\n",
              "Name: department, dtype: int64"
            ]
          },
          "metadata": {},
          "execution_count": 393
        }
      ]
    },
    {
      "cell_type": "markdown",
      "metadata": {
        "id": "yytt00vYckF1"
      },
      "source": [
        "# 5. Показать распределение сотрудников по зарплатам."
      ]
    },
    {
      "cell_type": "code",
      "metadata": {
        "id": "p5taqrGiclP-",
        "colab": {
          "base_uri": "https://localhost:8080/",
          "height": 295
        },
        "outputId": "d6357a67-2ab6-49a8-8651-9add426c856b"
      },
      "source": [
        "# опять же смотрим только сотрудников, которые работают в данный момент, т.е.\n",
        "# у которых left == 0\n",
        "plt.figure(figsize=(6, 4))\n",
        "plt.hist(df.loc[df.left==0].salary)\n",
        "plt.title('Распределение сотрудников по зарплатам')\n",
        "plt.ylabel('Кол-во сотрудников')\n",
        "plt.xlabel('Уровень зарплаты')\n",
        "plt.show()"
      ],
      "execution_count": null,
      "outputs": [
        {
          "output_type": "display_data",
          "data": {
            "image/png": "[encoded data removed]",
            "text/plain": [
              "<Figure size 432x288 with 1 Axes>"
            ]
          },
          "metadata": {
            "needs_background": "light"
          }
        }
      ]
    },
    {
      "cell_type": "markdown",
      "metadata": {
        "id": "PmBiOIVcclv-"
      },
      "source": [
        "# 6. Показать распределение сотрудников по зарплатам в каждом департаменте по отдельности"
      ]
    },
    {
      "cell_type": "code",
      "metadata": {
        "id": "xD3Bv49qcocG",
        "colab": {
          "base_uri": "https://localhost:8080/",
          "height": 297
        },
        "outputId": "e48a14fb-38dd-4110-b3ab-b562ab8b52de"
      },
      "source": [
        "# и тут также смотрим только сотрудников, которые работают в данный момент, т.е.\n",
        "# у которых left == 0. если надо смотреть по всем данным, то надо указать\n",
        "# data=df\n",
        "plt.figure(figsize=(15, 4))\n",
        "sns.histplot(data=df.loc[df.left==0], x='department', hue='salary', multiple=\"dodge\", shrink=.8)"
      ],
      "execution_count": null,
      "outputs": [
        {
          "output_type": "execute_result",
          "data": {
            "text/plain": [
              "<matplotlib.axes._subplots.AxesSubplot at 0x7fd50495c750>"
            ]
          },
          "metadata": {},
          "execution_count": 395
        },
        {
          "output_type": "display_data",
          "data": {
            "image/png": "[encoded data removed]",
            "text/plain": [
              "<Figure size 1080x288 with 1 Axes>"
            ]
          },
          "metadata": {
            "needs_background": "light"
          }
        }
      ]
    },
    {
      "cell_type": "markdown",
      "metadata": {
        "id": "D4WSMTgYcrTX"
      },
      "source": [
        "# 7. Проверить гипотезу, что сотрудники с высоким окладом проводят на работе больше времени, чем сотрудники с низким окладом"
      ]
    },
    {
      "cell_type": "markdown",
      "metadata": {
        "id": "KEn6JnqhvpbD"
      },
      "source": [
        "Сформулируем нулевую гипотезу (H0) о том, что разницы во времени, которое сотрудники проводят на работе, для двух групп нет. Установим пороговый уровень значимости в 0.05. В данном случае у нас две независимые выборки. Будем рассматривать и уволившихся, и работающих сотрудников"
      ]
    },
    {
      "cell_type": "code",
      "metadata": {
        "id": "ka-XaOAvcsn2",
        "colab": {
          "base_uri": "https://localhost:8080/",
          "height": 265
        },
        "outputId": "0bd48880-7269-4292-e93a-439891b8d3ef"
      },
      "source": [
        "emp_high_salary = df.loc[df.salary == 'high']\n",
        "emp_low_salary = df.loc[df.salary == 'low']\n",
        "\n",
        "plt.hist(emp_high_salary['average_montly_hours'], color='green', alpha=0.5)\n",
        "plt.hist(emp_low_salary['average_montly_hours'], color='red', alpha=0.5)\n",
        "plt.show()"
      ],
      "execution_count": null,
      "outputs": [
        {
          "output_type": "display_data",
          "data": {
            "image/png": "[encoded data removed]",
            "text/plain": [
              "<Figure size 432x288 with 1 Axes>"
            ]
          },
          "metadata": {
            "needs_background": "light"
          }
        }
      ]
    },
    {
      "cell_type": "markdown",
      "metadata": {
        "id": "wPpDhYnpw410"
      },
      "source": [
        "Распределения в общем похожи на нормальные, но все равно применим два разных теста: t-тест Стьюдента и тест Манна-Уитни, который не требуем нормального распределения данных"
      ]
    },
    {
      "cell_type": "code",
      "metadata": {
        "colab": {
          "base_uri": "https://localhost:8080/"
        },
        "id": "8OOpOveCxgmC",
        "outputId": "56a53452-c74c-4e65-fd74-001116ac3ab3"
      },
      "source": [
        "alpha = 0.05\n",
        "\n",
        "t, p_value = ttest_ind(\n",
        "    emp_low_salary['average_montly_hours'],\n",
        "    emp_high_salary['average_montly_hours']    \n",
        "    )\n",
        "\n",
        "print('p_value =', p_value)\n",
        "\n",
        "if p_value > alpha:\n",
        "  print('Существенной разницы между исследуемыми группами нет.\\n'\n",
        "  'Нулевая гипотеза не может быть отвергнута')\n",
        "else:\n",
        "    print('Между исследуемыми группами есть существенная разница.\\n'\n",
        "   'Нулевая гипотеза может быть отвергнута')\n",
        "    print('Сотрудники с высоким окладом проводят на работе '\n",
        "    f'{\"больше\" if emp_high_salary.average_montly_hours.mean() > emp_low_salary.average_montly_hours.mean() else \"меньше\"}'\n",
        "    ' времени')\n",
        "\n",
        "print(t)"
      ],
      "execution_count": null,
      "outputs": [
        {
          "output_type": "stream",
          "name": "stdout",
          "text": [
            "p_value = 0.4661023478267259\n",
            "Существенной разницы между исследуемыми группами нет.\n",
            "Нулевая гипотеза не может быть отвергнута\n",
            "0.7288680398062308\n"
          ]
        }
      ]
    },
    {
      "cell_type": "code",
      "metadata": {
        "colab": {
          "base_uri": "https://localhost:8080/"
        },
        "id": "M2iaIw0VzkNq",
        "outputId": "df23127b-b23e-413c-cd37-916fb00a8f71"
      },
      "source": [
        "stat_, p_value = mannwhitneyu(\n",
        "    emp_low_salary['average_montly_hours'],\n",
        "    emp_high_salary['average_montly_hours']    \n",
        "    )\n",
        "print('p_value =', p_value)\n",
        "\n",
        "if p_value > alpha:\n",
        "  print('Существенной разницы между исследуемыми группами нет.\\n'\n",
        "  'Нулевая гипотеза не может быть отвергнута')\n",
        "else:\n",
        "    print('Между исследуемыми группами есть существенная разница.\\n'\n",
        "  'Нулевая гипотеза может быть отвергнута')\n",
        "    print('Сотрудники с высоким окладом проводят на работе '\n",
        "    f'{\"больше\" if emp_high_salary.average_montly_hours.mean() > emp_low_salary.average_montly_hours.mean() else \"меньше\"}'\n",
        "    ' времени')"
      ],
      "execution_count": null,
      "outputs": [
        {
          "output_type": "stream",
          "name": "stdout",
          "text": [
            "p_value = 0.4120665360429347\n",
            "Существенной разницы между исследуемыми группами нет.\n",
            "Нулевая гипотеза не может быть отвергнута\n"
          ]
        }
      ]
    },
    {
      "cell_type": "markdown",
      "metadata": {
        "id": "nDd8PJxJ0XYt"
      },
      "source": [
        "Оба теста показали, что между сотрудниками с высоким окладом и сотрудниками с низким окладом нет существенной разницы в том, какое время они проводят на работе"
      ]
    },
    {
      "cell_type": "markdown",
      "metadata": {
        "id": "aZE5b44FcvXu"
      },
      "source": [
        "# 8. Рассчитать следующие показатели среди уволившихся и неуволившихся сотрудников (по отдельности):\n",
        "1. Доля сотрудников с повышением за последние 5 лет\n",
        "2. Средняя степень удовлетворенности\n",
        "3. Среднее количество проектов"
      ]
    },
    {
      "cell_type": "markdown",
      "metadata": {
        "id": "RoLxqFpg1SOO"
      },
      "source": [
        "Сначала рассчитаем эти показатели для уволившихся сотрудников"
      ]
    },
    {
      "cell_type": "code",
      "metadata": {
        "id": "qx6BQ-o1cykx",
        "colab": {
          "base_uri": "https://localhost:8080/"
        },
        "outputId": "2d648ad9-bfb0-4e9a-e0ce-ccead63d3111"
      },
      "source": [
        "left_emp_with_promotion = df.loc[df.left==1].\\\n",
        "  promotion_last_5years.sum()/df.loc[df.left==1].promotion_last_5years.count() * 100\n",
        "left_emp_mean_sat = df.loc[df.left==1].satisfaction_level.mean()\n",
        "left_emp_mean_projects = df.loc[df.left==1].number_project.mean()\n",
        "print(f'Доля уволившихся сотрудников с повышением за последние 5 лет: {left_emp_with_promotion:.2f}%'\n",
        "  f'\\nСредняя степень удовлетворенности среди уволившихся сотрудников: {left_emp_mean_sat:.2f}'\n",
        "  f'\\nСреднее количество проектов среди уволившихся сотрудников: {left_emp_mean_projects:.2f}'\n",
        ")"
      ],
      "execution_count": null,
      "outputs": [
        {
          "output_type": "stream",
          "name": "stdout",
          "text": [
            "Доля уволившихся сотрудников с повышением за последние 5 лет: 0.53%\n",
            "Средняя степень удовлетворенности среди уволившихся сотрудников: 0.44\n",
            "Среднее количество проектов среди уволившихся сотрудников: 3.86\n"
          ]
        }
      ]
    },
    {
      "cell_type": "markdown",
      "metadata": {
        "id": "xnYImp_xahhv"
      },
      "source": [
        "Теперь рассчитаем эти показатели для неуволившихся сотрудников"
      ]
    },
    {
      "cell_type": "code",
      "metadata": {
        "colab": {
          "base_uri": "https://localhost:8080/"
        },
        "id": "42_v9Qj41HKA",
        "outputId": "1e90fac1-3b0b-4bab-dabd-223b07c49eb6"
      },
      "source": [
        "emp_with_promotion = df.loc[df.left==0].\\\n",
        "  promotion_last_5years.sum()/df.loc[df.left==0].promotion_last_5years.count() * 100\n",
        "emp_mean_sat = df.loc[df.left==0].satisfaction_level.mean()\n",
        "emp_mean_projects = df.loc[df.left==0].number_project.mean()\n",
        "print(f'Доля неуволившихся сотрудников с повышением за последние 5 лет: {emp_with_promotion:.2f}%'\n",
        "  f'\\nСредняя степень удовлетворенности среди неуволившихся сотрудников: {emp_mean_sat:.2f}'\n",
        "  f'\\nСреднее количество проектов среди неуволившихся сотрудников: {emp_mean_projects:.2f}'\n",
        ")"
      ],
      "execution_count": null,
      "outputs": [
        {
          "output_type": "stream",
          "name": "stdout",
          "text": [
            "Доля неуволившихся сотрудников с повышением за последние 5 лет: 2.63%\n",
            "Средняя степень удовлетворенности среди неуволившихся сотрудников: 0.67\n",
            "Среднее количество проектов среди неуволившихся сотрудников: 3.79\n"
          ]
        }
      ]
    },
    {
      "cell_type": "markdown",
      "metadata": {
        "id": "jk0oTmrAa7cq"
      },
      "source": [
        "Другой способ через группировку"
      ]
    },
    {
      "cell_type": "code",
      "metadata": {
        "colab": {
          "base_uri": "https://localhost:8080/",
          "height": 142
        },
        "id": "3B5bjzw-4Z_N",
        "outputId": "4b0b74af-2602-4de6-b0f9-affd4d58526e"
      },
      "source": [
        "df_gr = df.groupby('left').agg({'satisfaction_level':'mean', 'number_project':'mean', 'promotion_last_5years': lambda x: x.sum()/x.count()*100})\n",
        "df_gr.rename(index={0: \"Неуволившиеся\", 1: \"Уволившиеся\"}, inplace=True)\n",
        "df_gr.columns = ['Средняя степень удовлетворенности', 'Среднее количество проектов', 'Доля сотрудников с повышением за последние 5 лет, %']\n",
        "df_gr"
      ],
      "execution_count": null,
      "outputs": [
        {
          "output_type": "execute_result",
          "data": {
            "text/html": [
              "<div>\n",
              "<style scoped>\n",
              "    .dataframe tbody tr th:only-of-type {\n",
              "        vertical-align: middle;\n",
              "    }\n",
              "\n",
              "    .dataframe tbody tr th {\n",
              "        vertical-align: top;\n",
              "    }\n",
              "\n",
              "    .dataframe thead th {\n",
              "        text-align: right;\n",
              "    }\n",
              "</style>\n",
              "<table border=\"1\" class=\"dataframe\">\n",
              "  <thead>\n",
              "    <tr style=\"text-align: right;\">\n",
              "      <th></th>\n",
              "      <th>Средняя степень удовлетворенности</th>\n",
              "      <th>Среднее количество проектов</th>\n",
              "      <th>Доля сотрудников с повышением за последние 5 лет, %</th>\n",
              "    </tr>\n",
              "    <tr>\n",
              "      <th>left</th>\n",
              "      <th></th>\n",
              "      <th></th>\n",
              "      <th></th>\n",
              "    </tr>\n",
              "  </thead>\n",
              "  <tbody>\n",
              "    <tr>\n",
              "      <th>Неуволившиеся</th>\n",
              "      <td>0.666810</td>\n",
              "      <td>3.786664</td>\n",
              "      <td>2.625131</td>\n",
              "    </tr>\n",
              "    <tr>\n",
              "      <th>Уволившиеся</th>\n",
              "      <td>0.440098</td>\n",
              "      <td>3.855503</td>\n",
              "      <td>0.532064</td>\n",
              "    </tr>\n",
              "  </tbody>\n",
              "</table>\n",
              "</div>"
            ],
            "text/plain": [
              "               Средняя степень удовлетворенности  ...  Доля сотрудников с повышением за последние 5 лет, %\n",
              "left                                              ...                                                     \n",
              "Неуволившиеся                           0.666810  ...                                           2.625131  \n",
              "Уволившиеся                             0.440098  ...                                           0.532064  \n",
              "\n",
              "[2 rows x 3 columns]"
            ]
          },
          "metadata": {},
          "execution_count": 401
        }
      ]
    },
    {
      "cell_type": "markdown",
      "metadata": {
        "id": "OlTQ8rGvc6jj"
      },
      "source": [
        "#9. Разделить данные на тестовую и обучающую выборки. Построить модель LDA, предсказывающую уволился ли сотрудник на основе имеющихся факторов (кроме department и salary). Оценить качество модели на тестовой выборки"
      ]
    },
    {
      "cell_type": "markdown",
      "metadata": {
        "id": "JBzMO6RySDWh"
      },
      "source": [
        "Формируем тестовую и обучающую выборки"
      ]
    },
    {
      "cell_type": "code",
      "metadata": {
        "colab": {
          "base_uri": "https://localhost:8080/",
          "height": 419
        },
        "id": "tGTCEGTiSIxK",
        "outputId": "83865981-519e-406b-a2d7-a8d12443949e"
      },
      "source": [
        "features = df_.drop(['left'], axis=1)\n",
        "target = df_['left']\n",
        "\n",
        "X_train, X_test, y_train, y_test = train_test_split(\n",
        "    features,\n",
        "    target,\n",
        "    test_size=0.25,\n",
        "    random_state=20\n",
        "    )\n",
        "features"
      ],
      "execution_count": null,
      "outputs": [
        {
          "output_type": "execute_result",
          "data": {
            "text/html": [
              "<div>\n",
              "<style scoped>\n",
              "    .dataframe tbody tr th:only-of-type {\n",
              "        vertical-align: middle;\n",
              "    }\n",
              "\n",
              "    .dataframe tbody tr th {\n",
              "        vertical-align: top;\n",
              "    }\n",
              "\n",
              "    .dataframe thead th {\n",
              "        text-align: right;\n",
              "    }\n",
              "</style>\n",
              "<table border=\"1\" class=\"dataframe\">\n",
              "  <thead>\n",
              "    <tr style=\"text-align: right;\">\n",
              "      <th></th>\n",
              "      <th>satisfaction_level</th>\n",
              "      <th>last_evaluation</th>\n",
              "      <th>number_project</th>\n",
              "      <th>average_montly_hours</th>\n",
              "      <th>time_spend_company</th>\n",
              "      <th>Work_accident</th>\n",
              "      <th>promotion_last_5years</th>\n",
              "    </tr>\n",
              "  </thead>\n",
              "  <tbody>\n",
              "    <tr>\n",
              "      <th>0</th>\n",
              "      <td>0.38</td>\n",
              "      <td>0.53</td>\n",
              "      <td>2</td>\n",
              "      <td>157</td>\n",
              "      <td>3</td>\n",
              "      <td>0</td>\n",
              "      <td>0</td>\n",
              "    </tr>\n",
              "    <tr>\n",
              "      <th>1</th>\n",
              "      <td>0.80</td>\n",
              "      <td>0.86</td>\n",
              "      <td>5</td>\n",
              "      <td>262</td>\n",
              "      <td>6</td>\n",
              "      <td>0</td>\n",
              "      <td>0</td>\n",
              "    </tr>\n",
              "    <tr>\n",
              "      <th>2</th>\n",
              "      <td>0.11</td>\n",
              "      <td>0.88</td>\n",
              "      <td>7</td>\n",
              "      <td>272</td>\n",
              "      <td>4</td>\n",
              "      <td>0</td>\n",
              "      <td>0</td>\n",
              "    </tr>\n",
              "    <tr>\n",
              "      <th>3</th>\n",
              "      <td>0.72</td>\n",
              "      <td>0.87</td>\n",
              "      <td>5</td>\n",
              "      <td>223</td>\n",
              "      <td>5</td>\n",
              "      <td>0</td>\n",
              "      <td>0</td>\n",
              "    </tr>\n",
              "    <tr>\n",
              "      <th>4</th>\n",
              "      <td>0.37</td>\n",
              "      <td>0.52</td>\n",
              "      <td>2</td>\n",
              "      <td>159</td>\n",
              "      <td>3</td>\n",
              "      <td>0</td>\n",
              "      <td>0</td>\n",
              "    </tr>\n",
              "    <tr>\n",
              "      <th>...</th>\n",
              "      <td>...</td>\n",
              "      <td>...</td>\n",
              "      <td>...</td>\n",
              "      <td>...</td>\n",
              "      <td>...</td>\n",
              "      <td>...</td>\n",
              "      <td>...</td>\n",
              "    </tr>\n",
              "    <tr>\n",
              "      <th>14994</th>\n",
              "      <td>0.40</td>\n",
              "      <td>0.57</td>\n",
              "      <td>2</td>\n",
              "      <td>151</td>\n",
              "      <td>3</td>\n",
              "      <td>0</td>\n",
              "      <td>0</td>\n",
              "    </tr>\n",
              "    <tr>\n",
              "      <th>14995</th>\n",
              "      <td>0.37</td>\n",
              "      <td>0.48</td>\n",
              "      <td>2</td>\n",
              "      <td>160</td>\n",
              "      <td>3</td>\n",
              "      <td>0</td>\n",
              "      <td>0</td>\n",
              "    </tr>\n",
              "    <tr>\n",
              "      <th>14996</th>\n",
              "      <td>0.37</td>\n",
              "      <td>0.53</td>\n",
              "      <td>2</td>\n",
              "      <td>143</td>\n",
              "      <td>3</td>\n",
              "      <td>0</td>\n",
              "      <td>0</td>\n",
              "    </tr>\n",
              "    <tr>\n",
              "      <th>14997</th>\n",
              "      <td>0.11</td>\n",
              "      <td>0.96</td>\n",
              "      <td>6</td>\n",
              "      <td>280</td>\n",
              "      <td>4</td>\n",
              "      <td>0</td>\n",
              "      <td>0</td>\n",
              "    </tr>\n",
              "    <tr>\n",
              "      <th>14998</th>\n",
              "      <td>0.37</td>\n",
              "      <td>0.52</td>\n",
              "      <td>2</td>\n",
              "      <td>158</td>\n",
              "      <td>3</td>\n",
              "      <td>0</td>\n",
              "      <td>0</td>\n",
              "    </tr>\n",
              "  </tbody>\n",
              "</table>\n",
              "<p>14999 rows × 7 columns</p>\n",
              "</div>"
            ],
            "text/plain": [
              "       satisfaction_level  ...  promotion_last_5years\n",
              "0                    0.38  ...                      0\n",
              "1                    0.80  ...                      0\n",
              "2                    0.11  ...                      0\n",
              "3                    0.72  ...                      0\n",
              "4                    0.37  ...                      0\n",
              "...                   ...  ...                    ...\n",
              "14994                0.40  ...                      0\n",
              "14995                0.37  ...                      0\n",
              "14996                0.37  ...                      0\n",
              "14997                0.11  ...                      0\n",
              "14998                0.37  ...                      0\n",
              "\n",
              "[14999 rows x 7 columns]"
            ]
          },
          "metadata": {},
          "execution_count": 402
        }
      ]
    },
    {
      "cell_type": "markdown",
      "metadata": {
        "id": "X99OOndSA1Bu"
      },
      "source": [
        "Создаем модель LDA и выполняем поиск наилучших параметров модели"
      ]
    },
    {
      "cell_type": "code",
      "metadata": {
        "colab": {
          "base_uri": "https://localhost:8080/"
        },
        "id": "w5ODuyLMAzGN",
        "outputId": "b03f2b53-56d0-4982-ce75-b16b2691e0db"
      },
      "source": [
        "# создаем модель\n",
        "model = LinearDiscriminantAnalysis()\n",
        "\n",
        "# далее будем перебирать значения гиперпараметров для всего набора данных\n",
        "# (и тестовых, и тренировочных), чтобы найти оптимальные значения\n",
        "\n",
        "# определяем метод оценки качества модели\n",
        "cv = RepeatedStratifiedKFold(n_splits=10, n_repeats=3, random_state=1)\n",
        "\n",
        "# настраиваем параметры модели\n",
        "grid = dict()\n",
        "# grid['solver'] = ['svd', 'lsqr', 'eigen']\n",
        "grid['solver'] = ['lsqr', 'eigen']\n",
        "grid['shrinkage'] = np.arange(0, 1, 0.01)\n",
        "\n",
        "search = GridSearchCV(model, grid, scoring='accuracy', cv=cv, n_jobs=-1)\n",
        "\n",
        "results = search.fit(features, target)\n",
        "\n",
        "print('Средняя точность: %.3f' % results.best_score_)\n",
        "print('Оптимальные параметры: %s' % results.best_params_)"
      ],
      "execution_count": null,
      "outputs": [
        {
          "output_type": "stream",
          "name": "stdout",
          "text": [
            "Средняя точность: 0.784\n",
            "Оптимальные параметры: {'shrinkage': 0.91, 'solver': 'lsqr'}\n"
          ]
        }
      ]
    },
    {
      "cell_type": "markdown",
      "metadata": {
        "id": "dwpy2zZLBDWq"
      },
      "source": [
        "Создаем модель с подобранными параметрами и тестируем её"
      ]
    },
    {
      "cell_type": "code",
      "metadata": {
        "colab": {
          "base_uri": "https://localhost:8080/"
        },
        "id": "gtVJINj5LG7I",
        "outputId": "a0acaca9-5d29-4faa-a7c8-60886e961e7a"
      },
      "source": [
        "model = LinearDiscriminantAnalysis(solver='lsqr',  shrinkage=0.91)\n",
        "\n",
        "model.fit(X_train, y_train)\n",
        "prediction = model.predict(X_test)\n",
        "print(f'Матрица ошибок\\n{confusion_matrix(y_test, prediction)}')\n",
        "print( f'Точность предсказания: {accuracy_score(y_test, prediction) * 100:.2f} %')"
      ],
      "execution_count": null,
      "outputs": [
        {
          "output_type": "stream",
          "name": "stdout",
          "text": [
            "Матрица ошибок\n",
            "[[2853   24]\n",
            " [ 767  106]]\n",
            "Точность предсказания: 78.91 %\n"
          ]
        }
      ]
    },
    {
      "cell_type": "code",
      "metadata": {
        "colab": {
          "base_uri": "https://localhost:8080/"
        },
        "id": "_2FizYNsVQb8",
        "outputId": "f8f1620a-d292-4f91-e16d-d6ecc52becb0"
      },
      "source": [
        "def get_result_df(X, y):\n",
        "  df_result = pd.DataFrame({'test': y_test, 'prediction': prediction})\n",
        "  for column_ in X.columns:\n",
        "    df_result[column_] = X[column_]\n",
        "  return df_result\n",
        "\n",
        "df_result = get_result_df(X_test, y_test)\n",
        "df_result.loc[df_result.test != df_result.prediction]"
      ],
      "execution_count": null,
      "outputs": [
        {
          "output_type": "execute_result",
          "data": {
            "text/html": [
              "<div>\n",
              "<style scoped>\n",
              "    .dataframe tbody tr th:only-of-type {\n",
              "        vertical-align: middle;\n",
              "    }\n",
              "\n",
              "    .dataframe tbody tr th {\n",
              "        vertical-align: top;\n",
              "    }\n",
              "\n",
              "    .dataframe thead th {\n",
              "        text-align: right;\n",
              "    }\n",
              "</style>\n",
              "<table border=\"1\" class=\"dataframe\">\n",
              "  <thead>\n",
              "    <tr style=\"text-align: right;\">\n",
              "      <th></th>\n",
              "      <th>test</th>\n",
              "      <th>prediction</th>\n",
              "      <th>satisfaction_level</th>\n",
              "      <th>last_evaluation</th>\n",
              "      <th>number_project</th>\n",
              "      <th>average_montly_hours</th>\n",
              "      <th>time_spend_company</th>\n",
              "      <th>Work_accident</th>\n",
              "      <th>promotion_last_5years</th>\n",
              "    </tr>\n",
              "  </thead>\n",
              "  <tbody>\n",
              "    <tr>\n",
              "      <th>671</th>\n",
              "      <td>1</td>\n",
              "      <td>0</td>\n",
              "      <td>0.11</td>\n",
              "      <td>0.94</td>\n",
              "      <td>6</td>\n",
              "      <td>264</td>\n",
              "      <td>4</td>\n",
              "      <td>0</td>\n",
              "      <td>0</td>\n",
              "    </tr>\n",
              "    <tr>\n",
              "      <th>140</th>\n",
              "      <td>1</td>\n",
              "      <td>0</td>\n",
              "      <td>0.09</td>\n",
              "      <td>0.96</td>\n",
              "      <td>6</td>\n",
              "      <td>245</td>\n",
              "      <td>4</td>\n",
              "      <td>0</td>\n",
              "      <td>0</td>\n",
              "    </tr>\n",
              "    <tr>\n",
              "      <th>721</th>\n",
              "      <td>1</td>\n",
              "      <td>0</td>\n",
              "      <td>0.31</td>\n",
              "      <td>0.87</td>\n",
              "      <td>4</td>\n",
              "      <td>184</td>\n",
              "      <td>3</td>\n",
              "      <td>0</td>\n",
              "      <td>0</td>\n",
              "    </tr>\n",
              "    <tr>\n",
              "      <th>1145</th>\n",
              "      <td>1</td>\n",
              "      <td>0</td>\n",
              "      <td>0.37</td>\n",
              "      <td>0.49</td>\n",
              "      <td>2</td>\n",
              "      <td>153</td>\n",
              "      <td>3</td>\n",
              "      <td>0</td>\n",
              "      <td>0</td>\n",
              "    </tr>\n",
              "    <tr>\n",
              "      <th>12247</th>\n",
              "      <td>1</td>\n",
              "      <td>0</td>\n",
              "      <td>0.46</td>\n",
              "      <td>0.49</td>\n",
              "      <td>2</td>\n",
              "      <td>148</td>\n",
              "      <td>3</td>\n",
              "      <td>0</td>\n",
              "      <td>0</td>\n",
              "    </tr>\n",
              "    <tr>\n",
              "      <th>...</th>\n",
              "      <td>...</td>\n",
              "      <td>...</td>\n",
              "      <td>...</td>\n",
              "      <td>...</td>\n",
              "      <td>...</td>\n",
              "      <td>...</td>\n",
              "      <td>...</td>\n",
              "      <td>...</td>\n",
              "      <td>...</td>\n",
              "    </tr>\n",
              "    <tr>\n",
              "      <th>1915</th>\n",
              "      <td>1</td>\n",
              "      <td>0</td>\n",
              "      <td>0.39</td>\n",
              "      <td>0.54</td>\n",
              "      <td>2</td>\n",
              "      <td>154</td>\n",
              "      <td>3</td>\n",
              "      <td>0</td>\n",
              "      <td>0</td>\n",
              "    </tr>\n",
              "    <tr>\n",
              "      <th>1864</th>\n",
              "      <td>1</td>\n",
              "      <td>0</td>\n",
              "      <td>0.37</td>\n",
              "      <td>0.50</td>\n",
              "      <td>2</td>\n",
              "      <td>154</td>\n",
              "      <td>3</td>\n",
              "      <td>0</td>\n",
              "      <td>0</td>\n",
              "    </tr>\n",
              "    <tr>\n",
              "      <th>12502</th>\n",
              "      <td>1</td>\n",
              "      <td>0</td>\n",
              "      <td>0.11</td>\n",
              "      <td>0.87</td>\n",
              "      <td>7</td>\n",
              "      <td>282</td>\n",
              "      <td>5</td>\n",
              "      <td>0</td>\n",
              "      <td>0</td>\n",
              "    </tr>\n",
              "    <tr>\n",
              "      <th>945</th>\n",
              "      <td>1</td>\n",
              "      <td>0</td>\n",
              "      <td>0.87</td>\n",
              "      <td>1.00</td>\n",
              "      <td>5</td>\n",
              "      <td>274</td>\n",
              "      <td>5</td>\n",
              "      <td>0</td>\n",
              "      <td>0</td>\n",
              "    </tr>\n",
              "    <tr>\n",
              "      <th>14584</th>\n",
              "      <td>1</td>\n",
              "      <td>0</td>\n",
              "      <td>0.36</td>\n",
              "      <td>0.57</td>\n",
              "      <td>2</td>\n",
              "      <td>142</td>\n",
              "      <td>3</td>\n",
              "      <td>0</td>\n",
              "      <td>0</td>\n",
              "    </tr>\n",
              "  </tbody>\n",
              "</table>\n",
              "<p>791 rows × 9 columns</p>\n",
              "</div>"
            ],
            "text/plain": [
              "       test  prediction  ...  Work_accident  promotion_last_5years\n",
              "671       1           0  ...              0                      0\n",
              "140       1           0  ...              0                      0\n",
              "721       1           0  ...              0                      0\n",
              "1145      1           0  ...              0                      0\n",
              "12247     1           0  ...              0                      0\n",
              "...     ...         ...  ...            ...                    ...\n",
              "1915      1           0  ...              0                      0\n",
              "1864      1           0  ...              0                      0\n",
              "12502     1           0  ...              0                      0\n",
              "945       1           0  ...              0                      0\n",
              "14584     1           0  ...              0                      0\n",
              "\n",
              "[791 rows x 9 columns]"
            ]
          },
          "metadata": {},
          "execution_count": 405
        }
      ]
    },
    {
      "cell_type": "markdown",
      "metadata": {
        "id": "r_yIYl_nczJw"
      },
      "source": [
        "# 10. Загрузить jupyter notebook с решение на github и прислать ссылку"
      ]
    },
    {
      "cell_type": "code",
      "metadata": {
        "id": "X3CWHdS4dBzm"
      },
      "source": [
        ""
      ],
      "execution_count": null,
      "outputs": []
    }
  ]
}